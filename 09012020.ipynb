{
 "cells": [
  {
   "cell_type": "code",
   "execution_count": 303,
   "metadata": {},
   "outputs": [],
   "source": [
    "import pandas as pd\n",
    "import numpy as np\n",
    "import shutil\n",
    "from shutil import *\n",
    "import csv"
   ]
  },
  {
   "cell_type": "code",
   "execution_count": 305,
   "metadata": {},
   "outputs": [
    {
     "data": {
      "text/plain": [
       "'C:\\\\Users\\\\g.bhargavi\\\\Desktop\\\\owtest12.csv'"
      ]
     },
     "execution_count": 305,
     "metadata": {},
     "output_type": "execute_result"
    }
   ],
   "source": [
    "shutil.copyfile(\"C:\\\\Cogencis WorkStation\\\\TMP\\\\Specific\\\\Common\\\\QUOTELISTS2.TXT\",\"C:\\\\Users\\\\g.bhargavi\\\\Desktop\\\\owtest12.csv\")"
   ]
  },
  {
   "cell_type": "code",
   "execution_count": 296,
   "metadata": {
    "scrolled": true
   },
   "outputs": [
    {
     "data": {
      "text/plain": [
       "882980"
      ]
     },
     "execution_count": 296,
     "metadata": {},
     "output_type": "execute_result"
    },
    {
     "data": {
      "text/plain": [
       "'C:\\\\Users\\\\g.bhargavi\\\\Desktop\\\\owtest12.csv'"
      ]
     },
     "execution_count": 296,
     "metadata": {},
     "output_type": "execute_result"
    },
    {
     "data": {
      "text/plain": [
       "882980"
      ]
     },
     "execution_count": 296,
     "metadata": {},
     "output_type": "execute_result"
    },
    {
     "data": {
      "text/plain": [
       "'C:\\\\Users\\\\g.bhargavi\\\\Desktop\\\\owtest13.csv'"
      ]
     },
     "execution_count": 296,
     "metadata": {},
     "output_type": "execute_result"
    }
   ],
   "source": [
    "lb = open(\"C:\\\\Users\\\\g.bhargavi\\\\Desktop\\\\owtest12.csv\",\"r+\")\n",
    "lb = lb.read()\n",
    "lb1 = lb.replace(\"|\",\",\")\n",
    "f= open(\"C:\\\\Users\\\\g.bhargavi\\\\Desktop\\\\owtest12.txt\",\"w+\")\n",
    "f.write(lb1)\n",
    "shutil.copyfile(\"C:\\\\Users\\\\g.bhargavi\\\\Desktop\\\\owtest12.txt\",\"C:\\\\Users\\\\g.bhargavi\\\\Desktop\\\\owtest12.csv\")\n",
    "\n",
    "lb2 = lb1.replace(\"@\",\",\")\n",
    "f= open(\"C:\\\\Users\\\\g.bhargavi\\\\Desktop\\\\owtest13.txt\",\"w+\")\n",
    "f.write(lb2)\n",
    "shutil.copyfile(\"C:\\\\Users\\\\g.bhargavi\\\\Desktop\\\\owtest13.txt\",\"C:\\\\Users\\\\g.bhargavi\\\\Desktop\\\\owtest13.csv\")\n",
    "\n",
    "\n"
   ]
  },
  {
   "cell_type": "code",
   "execution_count": 357,
   "metadata": {
    "scrolled": true
   },
   "outputs": [
    {
     "data": {
      "text/plain": [
       "882980"
      ]
     },
     "execution_count": 357,
     "metadata": {},
     "output_type": "execute_result"
    },
    {
     "name": "stdout",
     "output_type": "stream",
     "text": [
      "           Indices;Abu Dhabi;Abu Dhabi Indices ;*.ADS/I         ADS    7169\n",
      "0        Indices;Argentina;Main Argentina Indices;*.SBI         SBI    49.0\n",
      "1     Indices;Australia;Main Australia Indices;#IAUS...          AX    50.0\n",
      "2         Indices;Austria;Main Austria Indices;#IVIENNA         VIE    51.0\n",
      "3     Indices;Belgium;Euronext Bruxelles - Main Indi...     BRU+EMI    52.0\n",
      "4            Indices;Brazil;Main Brazil Indices;*.BOI/I         BOI    53.0\n",
      "5     Indices;Canada;TSX Toronto;S&P/TSX Offical Ind...          TO    54.0\n",
      "6     Indices;Canada;TSX Toronto;S&P/TSX Offical Sec...          TO    55.0\n",
      "7     Indices;Canada;TSX Toronto;S&P/TSX Offical Tru...          TO    56.0\n",
      "8     Indices;Canada;TSX Venture;S&P/TSX Venture Com...        TO+V  3363.0\n",
      "9     Indices;Chile;Santiago Indices - Price Return;...         SAN  7165.0\n",
      "10    Indices;Chile;Santiago Indices - Total Return;...         SAN    57.0\n",
      "11        Indices;China;China Indices - CSI;#ICHINA_CSI         CSI    59.0\n",
      "12     Indices;China;China Indices - Shanghai;0000*.CSI         CSI    60.0\n",
      "13      Indices;China;China Indices - Shenzhen;399*.CSI         CSI    61.0\n",
      "14    Indices;China;FTSE Xinhua A 600 Sectorial Indi...         FTS    64.0\n",
      "15    Indices;China;FTSE Xinhua QDII Indices;#FTS_I_...         FTS    63.0\n",
      "16    Indices;China;Main FTSE Xinhua Indices;#FTS_I_...         FTS    62.0\n",
      "17      Indices;China;Main Hong Kong Indices;#IHONGKONG         HKI    58.0\n",
      "18    Indices;Commodity Indices;Major Commodity Indi...  XX+EMI+XDJ     8.0\n",
      "19    Indices;Commodity Indices;Nasdaq Commodity Ind...          XO  7312.0\n",
      "20    Indices;Czech Republic;Main Czech Republic Ind...         PRI    66.0\n",
      "21    Indices;Denmark;FTSE Denmark 20 Index;#IFTSE_D...         FTS    68.0\n",
      "22    Indices;Denmark;Main Denmark Indices;#ICOPENHAGEN     OMX+OMI    67.0\n",
      "23             Indices;Egypt;Main Egypt Indices;*.EGX/I         EGX  7206.0\n",
      "24    Indices;Estonia;Main Estonia Indices;#IOMXTALLINN         TAL    69.0\n",
      "25    Indices;Finland;FTSE Finland 25 Index;#IFTSE_F...         FTS    71.0\n",
      "26      Indices;Finland;Main Finland Indices;#IHELSINKI     OMX+OMI    70.0\n",
      "27    Indices;France;Euronext Paris - Main Indices;#...      PA+EMI    72.0\n",
      "28     Indices;Germany;Main Germany Indices;#IFRANKFURT         XEI    73.0\n",
      "29              Indices;Greece;FTSE/ATHEX Indices;*.FTX         FTX    75.0\n",
      "...                                                 ...         ...     ...\n",
      "9031  Strategies;SGX;Calendar Spread;Index;SGX Nikke...          SX  7681.0\n",
      "9032  Strategies;SGX;Calendar Spread;Index;SGX Nikke...          SX  7682.0\n",
      "9033  Strategies;SGX;Calendar Spread;Index;SGX Nikke...          SX  5246.0\n",
      "9034  Strategies;SGX;Calendar Spread;Index;SGX Nikke...          SX  7683.0\n",
      "9035  Strategies;SGX;Calendar Spread;Index;SGX Strai...          SX  7684.0\n",
      "9036  Strategies;SGX;Calendar Spread;Rate;SGX Euroye...          SX  5226.0\n",
      "9037  Strategies;Tokyo Commodity Exchange;Calendar S...         TKT  7555.0\n",
      "9038  Strategies;Tokyo Commodity Exchange;Calendar S...         TKT  7556.0\n",
      "9039  Strategies;Tokyo Commodity Exchange;Calendar S...         TKT  7558.0\n",
      "9040  Strategies;Tokyo Commodity Exchange;Calendar S...         TKT  7557.0\n",
      "9041  Strategies;Tokyo Commodity Exchange;Calendar S...         TKT  7559.0\n",
      "9042  Strategies;Tokyo Commodity Exchange;Calendar S...         TKT  7560.0\n",
      "9043  Strategies;Tokyo Commodity Exchange;Calendar S...         TKT  7562.0\n",
      "9044  Strategies;Tokyo Commodity Exchange;Calendar S...         TKT  7563.0\n",
      "9045  Strategies;Tokyo Commodity Exchange;Calendar S...         TKT  7561.0\n",
      "9046  Strategies;Tokyo Commodity Exchange;Calendar S...         TKT  7564.0\n",
      "9047  Strategies;Tokyo Commodity Exchange;Calendar S...         TKT  7566.0\n",
      "9048  Strategies;Tokyo Commodity Exchange;Calendar S...         TKT  7565.0\n",
      "9049  Strategies;Tokyo Commodity Exchange;Calendar S...         TKT  7569.0\n",
      "9050  Strategies;Tokyo Commodity Exchange;Calendar S...         TKT  7568.0\n",
      "9051  Strategies;Tokyo Commodity Exchange;Calendar S...         TKT  7570.0\n",
      "9052  Strategies;Tokyo Commodity Exchange;Calendar S...         TKT  7567.0\n",
      "9053  Strategies;Tokyo Commodity Exchange;Inter-Comm...         TKT  7571.0\n",
      "9054  Strategies;Tokyo Commodity Exchange;Inter-Comm...         TKT  7572.0\n",
      "9055  Strategies;Tokyo Commodity Exchange;Inter-Comm...         TKT  7573.0\n",
      "9056  Strategies;Tokyo Commodity Exchange;Inter-Comm...         TKT  7574.0\n",
      "9057  Strategies;Tokyo Commodity Exchange;Inter-Comm...         TKT  7575.0\n",
      "9058  Strategies;Tokyo Commodity Exchange;Inter-Comm...         TKT  7576.0\n",
      "9059  Strategies;Tokyo Commodity Exchange;Inter-Comm...         TKT  7577.0\n",
      "9060  Strategies;Tokyo Commodity Exchange;Inter-Comm...         TKT  7578.0\n",
      "\n",
      "[9061 rows x 3 columns]\n"
     ]
    },
    {
     "name": "stderr",
     "output_type": "stream",
     "text": [
      "Skipping line 274: Expected 3 fields in line 274, saw 4\n",
      "Skipping line 275: Expected 3 fields in line 275, saw 4\n",
      "Skipping line 279: Expected 3 fields in line 279, saw 4\n",
      "Skipping line 281: Expected 3 fields in line 281, saw 4\n",
      "Skipping line 317: Expected 3 fields in line 317, saw 4\n",
      "Skipping line 337: Expected 3 fields in line 337, saw 4\n",
      "Skipping line 380: Expected 3 fields in line 380, saw 4\n",
      "Skipping line 446: Expected 3 fields in line 446, saw 4\n",
      "Skipping line 569: Expected 3 fields in line 569, saw 5\n",
      "Skipping line 570: Expected 3 fields in line 570, saw 5\n",
      "Skipping line 571: Expected 3 fields in line 571, saw 5\n",
      "Skipping line 572: Expected 3 fields in line 572, saw 5\n",
      "Skipping line 573: Expected 3 fields in line 573, saw 5\n",
      "Skipping line 574: Expected 3 fields in line 574, saw 5\n",
      "Skipping line 634: Expected 3 fields in line 634, saw 4\n",
      "Skipping line 678: Expected 3 fields in line 678, saw 5\n",
      "Skipping line 782: Expected 3 fields in line 782, saw 4\n",
      "Skipping line 798: Expected 3 fields in line 798, saw 4\n",
      "Skipping line 1143: Expected 3 fields in line 1143, saw 4\n",
      "Skipping line 1150: Expected 3 fields in line 1150, saw 4\n",
      "Skipping line 2377: Expected 3 fields in line 2377, saw 4\n",
      "Skipping line 5053: Expected 3 fields in line 5053, saw 5\n",
      "Skipping line 5128: Expected 3 fields in line 5128, saw 5\n",
      "Skipping line 6965: Expected 3 fields in line 6965, saw 4\n",
      "Skipping line 6966: Expected 3 fields in line 6966, saw 4\n",
      "Skipping line 7795: Expected 3 fields in line 7795, saw 4\n",
      "Skipping line 8940: Expected 3 fields in line 8940, saw 4\n",
      "Skipping line 8969: Expected 3 fields in line 8969, saw 5\n",
      "Skipping line 8970: Expected 3 fields in line 8970, saw 4\n"
     ]
    },
    {
     "data": {
      "text/html": [
       "<div>\n",
       "<style scoped>\n",
       "    .dataframe tbody tr th:only-of-type {\n",
       "        vertical-align: middle;\n",
       "    }\n",
       "\n",
       "    .dataframe tbody tr th {\n",
       "        vertical-align: top;\n",
       "    }\n",
       "\n",
       "    .dataframe thead th {\n",
       "        text-align: right;\n",
       "    }\n",
       "</style>\n",
       "<table border=\"1\" class=\"dataframe\">\n",
       "  <thead>\n",
       "    <tr style=\"text-align: right;\">\n",
       "      <th></th>\n",
       "      <th>Indices;Abu Dhabi;Abu Dhabi Indices ;*.ADS/I</th>\n",
       "      <th>ADS</th>\n",
       "      <th>7169</th>\n",
       "    </tr>\n",
       "  </thead>\n",
       "  <tbody>\n",
       "    <tr>\n",
       "      <th>0</th>\n",
       "      <td>Indices;Argentina;Main Argentina Indices;*.SBI</td>\n",
       "      <td>SBI</td>\n",
       "      <td>49.0</td>\n",
       "    </tr>\n",
       "    <tr>\n",
       "      <th>1</th>\n",
       "      <td>Indices;Australia;Main Australia Indices;#IAUS...</td>\n",
       "      <td>AX</td>\n",
       "      <td>50.0</td>\n",
       "    </tr>\n",
       "    <tr>\n",
       "      <th>2</th>\n",
       "      <td>Indices;Austria;Main Austria Indices;#IVIENNA</td>\n",
       "      <td>VIE</td>\n",
       "      <td>51.0</td>\n",
       "    </tr>\n",
       "    <tr>\n",
       "      <th>3</th>\n",
       "      <td>Indices;Belgium;Euronext Bruxelles - Main Indi...</td>\n",
       "      <td>BRU+EMI</td>\n",
       "      <td>52.0</td>\n",
       "    </tr>\n",
       "    <tr>\n",
       "      <th>4</th>\n",
       "      <td>Indices;Brazil;Main Brazil Indices;*.BOI/I</td>\n",
       "      <td>BOI</td>\n",
       "      <td>53.0</td>\n",
       "    </tr>\n",
       "  </tbody>\n",
       "</table>\n",
       "</div>"
      ],
      "text/plain": [
       "        Indices;Abu Dhabi;Abu Dhabi Indices ;*.ADS/I      ADS  7169\n",
       "0     Indices;Argentina;Main Argentina Indices;*.SBI      SBI  49.0\n",
       "1  Indices;Australia;Main Australia Indices;#IAUS...       AX  50.0\n",
       "2      Indices;Austria;Main Austria Indices;#IVIENNA      VIE  51.0\n",
       "3  Indices;Belgium;Euronext Bruxelles - Main Indi...  BRU+EMI  52.0\n",
       "4         Indices;Brazil;Main Brazil Indices;*.BOI/I      BOI  53.0"
      ]
     },
     "execution_count": 357,
     "metadata": {},
     "output_type": "execute_result"
    }
   ],
   "source": [
    "f= open(\"C:\\\\Users\\\\g.bhargavi\\\\Desktop\\\\owtest14.txt\",\"w+\")\n",
    "f.write(lb2)\n",
    "\n",
    "df = pd.read_csv(\"C:\\\\Users\\\\g.bhargavi\\\\Desktop\\\\owtest13.csv\",error_bad_lines=False,engine='python')\n",
    "\n",
    "try:\n",
    "    print(df)\n",
    "except error_bad_lines:\n",
    "    print(\"Error\")\n",
    "finally:\n",
    "    df.head()\n",
    "    "
   ]
  },
  {
   "cell_type": "code",
   "execution_count": 362,
   "metadata": {},
   "outputs": [
    {
     "data": {
      "text/html": [
       "<div>\n",
       "<style scoped>\n",
       "    .dataframe tbody tr th:only-of-type {\n",
       "        vertical-align: middle;\n",
       "    }\n",
       "\n",
       "    .dataframe tbody tr th {\n",
       "        vertical-align: top;\n",
       "    }\n",
       "\n",
       "    .dataframe thead th {\n",
       "        text-align: right;\n",
       "    }\n",
       "</style>\n",
       "<table border=\"1\" class=\"dataframe\">\n",
       "  <thead>\n",
       "    <tr style=\"text-align: right;\">\n",
       "      <th></th>\n",
       "      <th>Indices;Abu Dhabi;Abu Dhabi Indices ;*.ADS/I</th>\n",
       "      <th>ADS</th>\n",
       "      <th>7169</th>\n",
       "    </tr>\n",
       "  </thead>\n",
       "  <tbody>\n",
       "    <tr>\n",
       "      <th>0</th>\n",
       "      <td>Indices;Argentina;Main Argentina Indices;*.SBI</td>\n",
       "      <td>SBI</td>\n",
       "      <td>49.0</td>\n",
       "    </tr>\n",
       "    <tr>\n",
       "      <th>1</th>\n",
       "      <td>Indices;Australia;Main Australia Indices;#IAUS...</td>\n",
       "      <td>AX</td>\n",
       "      <td>50.0</td>\n",
       "    </tr>\n",
       "    <tr>\n",
       "      <th>2</th>\n",
       "      <td>Indices;Austria;Main Austria Indices;#IVIENNA</td>\n",
       "      <td>VIE</td>\n",
       "      <td>51.0</td>\n",
       "    </tr>\n",
       "    <tr>\n",
       "      <th>3</th>\n",
       "      <td>Indices;Belgium;Euronext Bruxelles - Main Indi...</td>\n",
       "      <td>BRU+EMI</td>\n",
       "      <td>52.0</td>\n",
       "    </tr>\n",
       "    <tr>\n",
       "      <th>4</th>\n",
       "      <td>Indices;Brazil;Main Brazil Indices;*.BOI/I</td>\n",
       "      <td>BOI</td>\n",
       "      <td>53.0</td>\n",
       "    </tr>\n",
       "  </tbody>\n",
       "</table>\n",
       "</div>"
      ],
      "text/plain": [
       "        Indices;Abu Dhabi;Abu Dhabi Indices ;*.ADS/I      ADS  7169\n",
       "0     Indices;Argentina;Main Argentina Indices;*.SBI      SBI  49.0\n",
       "1  Indices;Australia;Main Australia Indices;#IAUS...       AX  50.0\n",
       "2      Indices;Austria;Main Austria Indices;#IVIENNA      VIE  51.0\n",
       "3  Indices;Belgium;Euronext Bruxelles - Main Indi...  BRU+EMI  52.0\n",
       "4         Indices;Brazil;Main Brazil Indices;*.BOI/I      BOI  53.0"
      ]
     },
     "execution_count": 362,
     "metadata": {},
     "output_type": "execute_result"
    }
   ],
   "source": [
    "L = pd.DataFrame(df)\n",
    "L.head()"
   ]
  },
  {
   "cell_type": "code",
   "execution_count": 335,
   "metadata": {},
   "outputs": [
    {
     "ename": "ValueError",
     "evalue": "cannot insert Col5, already exists",
     "output_type": "error",
     "traceback": [
      "\u001b[1;31m---------------------------------------------------------------------------\u001b[0m",
      "\u001b[1;31mValueError\u001b[0m                                Traceback (most recent call last)",
      "\u001b[1;32m<ipython-input-335-cc8d65e3207e>\u001b[0m in \u001b[0;36m<module>\u001b[1;34m\u001b[0m\n\u001b[1;32m----> 1\u001b[1;33m \u001b[0mk\u001b[0m\u001b[1;33m.\u001b[0m\u001b[0minsert\u001b[0m\u001b[1;33m(\u001b[0m\u001b[1;36m0\u001b[0m\u001b[1;33m,\u001b[0m\u001b[1;34m'Col5'\u001b[0m\u001b[1;33m,\u001b[0m\u001b[1;34m' '\u001b[0m\u001b[1;33m)\u001b[0m\u001b[1;33m\u001b[0m\u001b[1;33m\u001b[0m\u001b[0m\n\u001b[0m\u001b[0;32m      2\u001b[0m \u001b[0mk\u001b[0m\u001b[1;33m\u001b[0m\u001b[1;33m\u001b[0m\u001b[0m\n",
      "\u001b[1;32m~\\AppData\\Local\\Continuum\\anaconda3\\lib\\site-packages\\pandas\\core\\frame.py\u001b[0m in \u001b[0;36minsert\u001b[1;34m(self, loc, column, value, allow_duplicates)\u001b[0m\n\u001b[0;32m   3471\u001b[0m         \u001b[0mvalue\u001b[0m \u001b[1;33m=\u001b[0m \u001b[0mself\u001b[0m\u001b[1;33m.\u001b[0m\u001b[0m_sanitize_column\u001b[0m\u001b[1;33m(\u001b[0m\u001b[0mcolumn\u001b[0m\u001b[1;33m,\u001b[0m \u001b[0mvalue\u001b[0m\u001b[1;33m,\u001b[0m \u001b[0mbroadcast\u001b[0m\u001b[1;33m=\u001b[0m\u001b[1;32mFalse\u001b[0m\u001b[1;33m)\u001b[0m\u001b[1;33m\u001b[0m\u001b[1;33m\u001b[0m\u001b[0m\n\u001b[0;32m   3472\u001b[0m         self._data.insert(loc, column, value,\n\u001b[1;32m-> 3473\u001b[1;33m                           allow_duplicates=allow_duplicates)\n\u001b[0m\u001b[0;32m   3474\u001b[0m \u001b[1;33m\u001b[0m\u001b[0m\n\u001b[0;32m   3475\u001b[0m     \u001b[1;32mdef\u001b[0m \u001b[0massign\u001b[0m\u001b[1;33m(\u001b[0m\u001b[0mself\u001b[0m\u001b[1;33m,\u001b[0m \u001b[1;33m**\u001b[0m\u001b[0mkwargs\u001b[0m\u001b[1;33m)\u001b[0m\u001b[1;33m:\u001b[0m\u001b[1;33m\u001b[0m\u001b[1;33m\u001b[0m\u001b[0m\n",
      "\u001b[1;32m~\\AppData\\Local\\Continuum\\anaconda3\\lib\\site-packages\\pandas\\core\\internals\\managers.py\u001b[0m in \u001b[0;36minsert\u001b[1;34m(self, loc, item, value, allow_duplicates)\u001b[0m\n\u001b[0;32m   1147\u001b[0m         \u001b[1;32mif\u001b[0m \u001b[1;32mnot\u001b[0m \u001b[0mallow_duplicates\u001b[0m \u001b[1;32mand\u001b[0m \u001b[0mitem\u001b[0m \u001b[1;32min\u001b[0m \u001b[0mself\u001b[0m\u001b[1;33m.\u001b[0m\u001b[0mitems\u001b[0m\u001b[1;33m:\u001b[0m\u001b[1;33m\u001b[0m\u001b[1;33m\u001b[0m\u001b[0m\n\u001b[0;32m   1148\u001b[0m             \u001b[1;31m# Should this be a different kind of error??\u001b[0m\u001b[1;33m\u001b[0m\u001b[1;33m\u001b[0m\u001b[1;33m\u001b[0m\u001b[0m\n\u001b[1;32m-> 1149\u001b[1;33m             \u001b[1;32mraise\u001b[0m \u001b[0mValueError\u001b[0m\u001b[1;33m(\u001b[0m\u001b[1;34m'cannot insert {}, already exists'\u001b[0m\u001b[1;33m.\u001b[0m\u001b[0mformat\u001b[0m\u001b[1;33m(\u001b[0m\u001b[0mitem\u001b[0m\u001b[1;33m)\u001b[0m\u001b[1;33m)\u001b[0m\u001b[1;33m\u001b[0m\u001b[1;33m\u001b[0m\u001b[0m\n\u001b[0m\u001b[0;32m   1150\u001b[0m \u001b[1;33m\u001b[0m\u001b[0m\n\u001b[0;32m   1151\u001b[0m         \u001b[1;32mif\u001b[0m \u001b[1;32mnot\u001b[0m \u001b[0misinstance\u001b[0m\u001b[1;33m(\u001b[0m\u001b[0mloc\u001b[0m\u001b[1;33m,\u001b[0m \u001b[0mint\u001b[0m\u001b[1;33m)\u001b[0m\u001b[1;33m:\u001b[0m\u001b[1;33m\u001b[0m\u001b[1;33m\u001b[0m\u001b[0m\n",
      "\u001b[1;31mValueError\u001b[0m: cannot insert Col5, already exists"
     ]
    }
   ],
   "source": [
    "k.insert(0,'Col5',' ')\n",
    "k"
   ]
  },
  {
   "cell_type": "code",
   "execution_count": null,
   "metadata": {},
   "outputs": [],
   "source": []
  },
  {
   "cell_type": "code",
   "execution_count": null,
   "metadata": {},
   "outputs": [],
   "source": []
  },
  {
   "cell_type": "code",
   "execution_count": null,
   "metadata": {},
   "outputs": [],
   "source": []
  },
  {
   "cell_type": "code",
   "execution_count": null,
   "metadata": {},
   "outputs": [],
   "source": [
    "\n",
    "filename = \"C:\\\\Users\\\\g.bhargavi\\\\Desktop\\\\Titanic Predictions 1.csv\"\n",
    "\n",
    "f.to_csv(filename,index=False)\n",
    "\n",
    "print('Saved file: ' + filename)\n"
   ]
  },
  {
   "cell_type": "code",
   "execution_count": null,
   "metadata": {},
   "outputs": [],
   "source": []
  },
  {
   "cell_type": "code",
   "execution_count": null,
   "metadata": {},
   "outputs": [],
   "source": [
    "\n",
    "#x = lb.head = ['a','b','c','d','e','f','g','h','i']\n",
    "#x = [lb]\n",
    "#y = lb.splitlines()\n",
    "#b = y.replace('@',\",\")\n",
    "#z = pd.DataFrame(b)[0]\n",
    "#a = z.Col1.str.split(\"@\",expand=True,)"
   ]
  }
 ],
 "metadata": {
  "kernelspec": {
   "display_name": "Python 3",
   "language": "python",
   "name": "python3"
  },
  "language_info": {
   "codemirror_mode": {
    "name": "ipython",
    "version": 3
   },
   "file_extension": ".py",
   "mimetype": "text/x-python",
   "name": "python",
   "nbconvert_exporter": "python",
   "pygments_lexer": "ipython3",
   "version": "3.7.3"
  }
 },
 "nbformat": 4,
 "nbformat_minor": 2
}
